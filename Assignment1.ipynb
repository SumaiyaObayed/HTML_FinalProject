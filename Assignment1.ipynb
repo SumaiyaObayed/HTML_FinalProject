{
  "nbformat": 4,
  "nbformat_minor": 0,
  "metadata": {
    "colab": {
      "provenance": [],
      "authorship_tag": "ABX9TyOhdAhoDM7JTYsdSwqCe4ea",
      "include_colab_link": true
    },
    "kernelspec": {
      "name": "python3",
      "display_name": "Python 3"
    },
    "language_info": {
      "name": "python"
    }
  },
  "cells": [
    {
      "cell_type": "markdown",
      "metadata": {
        "id": "view-in-github",
        "colab_type": "text"
      },
      "source": [
        "<a href=\"https://colab.research.google.com/github/SumaiyaObayed/HTML_FinalProject/blob/main/Assignment1.ipynb\" target=\"_parent\"><img src=\"https://colab.research.google.com/assets/colab-badge.svg\" alt=\"Open In Colab\"/></a>"
      ]
    },
    {
      "cell_type": "markdown",
      "source": [
        "Sumaiya Obayed\n",
        "M230205069"
      ],
      "metadata": {
        "id": "5RoczyK3Ce7I"
      }
    },
    {
      "cell_type": "markdown",
      "source": [
        "ASSIGNMENT 1\n",
        "Develop a dictionary named \"book_collection\" representing a collection of three books. Utilize the titles of the books as keys in your dictionary. For each book, provide details such as its author, publication year, and a brief summary. The keys for each book's dictionary should be author, publication_year, and summary. Print the title of each book alongside all the information stored about it."
      ],
      "metadata": {
        "id": "Udk3NiFUCb0B"
      }
    },
    {
      "cell_type": "code",
      "execution_count": null,
      "metadata": {
        "colab": {
          "base_uri": "https://localhost:8080/"
        },
        "id": "cUwzbF1VCYTb",
        "outputId": "998e2f93-3be8-4d11-d237-c3d402da9923"
      },
      "outputs": [
        {
          "output_type": "stream",
          "name": "stdout",
          "text": [
            "Title: The Great Gatsby\n",
            "  Author: F. Scott Fitzgerald\n",
            "  Publication Year: 1925\n",
            "  Summary: A novel set in the Jazz Age of the 1920s, exploring themes of wealth, love, and the American Dream through the story of Jay Gatsby and his obsession with Daisy Buchanan.\n",
            "\n",
            "Title: Moby Dick\n",
            "  Author: Herman Melville\n",
            "  Publication Year: 1851\n",
            "  Summary: An epic tale of adventure and obsession, chronicling Captain Ahab's relentless pursuit of the white whale, Moby Dick, and the impact of this quest on his crew..\n",
            "\n",
            "Title: Pride and Prejudice\n",
            "  Author: Jane Austen\n",
            "  Publication Year: 1813\n",
            "  Summary: Social commentary on love, marriage, and class in 19th-century England.\n",
            "\n"
          ]
        }
      ],
      "source": [
        "book_collection = {\n",
        "    \"The Great Gatsby\": {\n",
        "        \"author\": \"F. Scott Fitzgerald\",\n",
        "        \"publication_year\": 1925,\n",
        "        \"summary\": \"A novel set in the Jazz Age of the 1920s, exploring themes of wealth, love, and the American Dream through the story of Jay Gatsby and his obsession with Daisy Buchanan.\"\n",
        "    },\n",
        "    \"Moby Dick\": {\n",
        "        \"author\": \"Herman Melville\",\n",
        "        \"publication_year\": 1851,\n",
        "        \"summary\": \"An epic tale of adventure and obsession, chronicling Captain Ahab's relentless pursuit of the white whale, Moby Dick, and the impact of this quest on his crew..\"\n",
        "    },\n",
        "    \"Pride and Prejudice\": {\n",
        "        \"author\": \"Jane Austen\",\n",
        "        \"publication_year\": 1813,\n",
        "        \"summary\": \"Social commentary on love, marriage, and class in 19th-century England.\"\n",
        "    }\n",
        "}\n",
        "\n",
        "for title, details in book_collection.items():\n",
        "    print(f\"Title: {title}\")\n",
        "    print(f\"  Author: {details['author']}\")\n",
        "    print(f\"  Publication Year: {details['publication_year']}\")\n",
        "    print(f\"  Summary: {details['summary']}\\n\")"
      ]
    }
  ]
}